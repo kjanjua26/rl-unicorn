{
 "cells": [
  {
   "cell_type": "markdown",
   "id": "b6972aa8",
   "metadata": {},
   "source": [
    "# K-Armed Bandits in Action"
   ]
  },
  {
   "cell_type": "markdown",
   "id": "f7ec9e4e",
   "metadata": {},
   "source": [
    "### Environment\n",
    "\n",
    "We choose to opt for the cliched slot-machine environment where we have $K$ slot machines with $K$ arms. Each arm when pulled yields a certain reward and the goal of the agent is to maximize the average cumulative reward."
   ]
  },
  {
   "cell_type": "code",
   "execution_count": 1,
   "id": "9cb0bb96",
   "metadata": {},
   "outputs": [],
   "source": [
    "import numpy as np\n",
    "import random\n",
    "import matplotlib.pyplot as plt\n",
    "import time\n",
    "import seaborn as sns\n",
    "\n",
    "%matplotlib inline"
   ]
  },
  {
   "cell_type": "code",
   "execution_count": 2,
   "id": "38da01c4",
   "metadata": {},
   "outputs": [],
   "source": [
    "class SlotMachineEnvironment:\n",
    "    def __init__(self, reward_probabilities, rewards):\n",
    "        \"\"\"Since this is MAB problem, we first consider the fixed reward probabilities scenario.\n",
    "           The reward probabilities and rewards are passed in to the environment.\n",
    "           The agent tries to learn which arms to pull to gain the maximum cumulative reward.\n",
    "        \"\"\"\n",
    "        self.reward_probabilities = reward_probabilities\n",
    "        self.rewards = rewards\n",
    "        self.k_arms = len(rewards)\n",
    "        \n",
    "    def pull(self, arm):\n",
    "        if np.random.random() < self.reward_probabilities[arm]:\n",
    "            return self.rewards[arm]\n",
    "        else:\n",
    "            return 0.0"
   ]
  },
  {
   "cell_type": "code",
   "execution_count": 3,
   "id": "d9e25caf",
   "metadata": {},
   "outputs": [],
   "source": [
    "arms = 10 # consider there are 10 arms\n",
    "reward_probs = [random.random() for _ in range(arms)]\n",
    "rewards = [random.randint(0, 100) for _ in range(arms)]\n",
    "base_environment = SlotMachineEnvironment(reward_probabilities=reward_probs, rewards=rewards)"
   ]
  },
  {
   "cell_type": "code",
   "execution_count": 4,
   "id": "5b57f3a4",
   "metadata": {},
   "outputs": [],
   "source": [
    "class RandomAgent:\n",
    "    def __init__(self, environment, steps):\n",
    "        \"\"\"Instantiation of a random agent.\n",
    "        This takes in the environment and the maximum number of steps.\n",
    "        The agent randomly selects an arm to pull without learning.\n",
    "        \"\"\"\n",
    "        self.environment = environment\n",
    "        self.steps = steps\n",
    "    \n",
    "    def step(self):\n",
    "        count_of_arms_pulled = np.zeros(self.environment.k_arms)\n",
    "        rewards_obtained = []\n",
    "        cumulative_rewards = []\n",
    "        \n",
    "        for _ in range(self.steps):\n",
    "            arm_to_pull = np.random.choice(self.environment.k_arms)\n",
    "            reward = self.environment.pull(arm_to_pull)\n",
    "            count_of_arms_pulled[arm_to_pull] += 1\n",
    "            \n",
    "            rewards_obtained.append(reward)\n",
    "            cumulative_rewards.append(sum(rewards)/len(rewards))\n",
    "            \n",
    "        return (count_of_arms_pulled, \n",
    "                rewards_obtained, \n",
    "                cumulative_rewards)"
   ]
  },
  {
   "cell_type": "code",
   "execution_count": 5,
   "id": "582d41c1",
   "metadata": {},
   "outputs": [],
   "source": [
    "random_agent = RandomAgent(environment=base_environment, steps=10000)\n",
    "(ra_arms_pulled, ra_rewards_obtained, ra_cumulative_rewards) = random_agent.step()"
   ]
  },
  {
   "cell_type": "code",
   "execution_count": 6,
   "id": "30283720",
   "metadata": {},
   "outputs": [],
   "source": [
    "class EpsilonGreedyAgent:\n",
    "    def __init__(self, environment, steps, epsilon):\n",
    "        \"\"\"Instantiation of the epsilon greedy agent.\n",
    "        This agent estimates the q-values and selects the arm to pull which has maximum q-value.\n",
    "        The epsilon decides when to explore and when to exploit.\n",
    "        \"\"\"\n",
    "        self.environment = environment\n",
    "        self.steps = steps\n",
    "        self.epsilon = epsilon\n",
    "        \n",
    "    def step(self):\n",
    "        k_arms = self.environment.k_arms\n",
    "        q_values = np.zeros(k_arms)\n",
    "        rewards_obtained_per_arm = np.zeros(k_arms)\n",
    "        count_of_arms_pulled = np.zeros(k_arms)\n",
    "        \n",
    "        rewards = []\n",
    "        cumulative_rewards = []\n",
    "        \n",
    "        for _ in range(self.steps):\n",
    "            if np.random.random() < self.epsilon:\n",
    "                arm_to_pull = np.random.choice(k_arms) # explore\n",
    "            else:\n",
    "                arm_to_pull = np.argmax(q_values) # exploit\n",
    "            \n",
    "            reward = self.environment.pull(arm_to_pull)\n",
    "            rewards_obtained_per_arm[arm_to_pull] += reward\n",
    "            count_of_arms_pulled[arm_to_pull] += 1\n",
    "            q_values[arm_to_pull] = rewards_obtained_per_arm[arm_to_pull]/count_of_arms_pulled[arm_to_pull]\n",
    "            \n",
    "            rewards.append(reward)\n",
    "            cumulative_rewards.append(sum(rewards)/len(rewards))\n",
    "            \n",
    "        return (count_of_arms_pulled,\n",
    "                rewards,\n",
    "                cumulative_rewards)"
   ]
  },
  {
   "cell_type": "code",
   "execution_count": 7,
   "id": "ee8165ea",
   "metadata": {},
   "outputs": [],
   "source": [
    "eps_greedy_agent = EpsilonGreedyAgent(environment=base_environment, steps=10000, epsilon=0.1)\n",
    "(epsg_arms_pulled, epsg_rewards_obtained, epsg_cumulative_rewards) = eps_greedy_agent.step()"
   ]
  },
  {
   "cell_type": "code",
   "execution_count": 16,
   "id": "c3abc53e",
   "metadata": {},
   "outputs": [],
   "source": [
    "eps_greedy_agent_2 = EpsilonGreedyAgent(environment=base_environment, steps=10000, epsilon=0.01)\n",
    "(epsg_2_arms_pulled, epsg_2_rewards_obtained, epsg_2_cumulative_rewards) = eps_greedy_agent_2.step()"
   ]
  },
  {
   "cell_type": "code",
   "execution_count": 17,
   "id": "f8a23166",
   "metadata": {},
   "outputs": [],
   "source": [
    "eps_greedy_agent_3 = EpsilonGreedyAgent(environment=base_environment, steps=10000, epsilon=0.001)\n",
    "(epsg_3_arms_pulled, epsg_3_rewards_obtained, epsg_3_cumulative_rewards) = eps_greedy_agent_3.step()"
   ]
  },
  {
   "cell_type": "code",
   "execution_count": 10,
   "id": "19628312",
   "metadata": {},
   "outputs": [],
   "source": [
    "class ThompsonSamplingAgent:\n",
    "    def __init__(self, environment, steps):\n",
    "        \"\"\"Instantiation of the ThompsonSampling agent.\n",
    "           The Thompson agent is a Bernoulli bandit (in this case).\n",
    "           It generates a model of reward probabilities \n",
    "        \"\"\"\n",
    "        self.environment = environment\n",
    "        self.steps = steps\n",
    "\n",
    "    def step(self):\n",
    "        k_arms = self.environment.k_arms\n",
    "        count_of_arms_pulled = np.zeros(k_arms)\n",
    "        rewards_obtained = np.zeros(k_arms)\n",
    "        failures = np.zeros(k_arms)\n",
    "        \n",
    "        cumulative_rewards = []\n",
    "        total_rewards = []\n",
    "        \n",
    "        for _ in range(self.steps):\n",
    "            arm_to_pull = 0\n",
    "            beta_max = 0\n",
    "            for j in range(k_arms):\n",
    "                beta_d = random.betavariate(rewards_obtained[j] + 1, failures[j] + 1)\n",
    "                if beta_d > beta_max:\n",
    "                    beta_max = beta_d\n",
    "                    arm_to_pull = j\n",
    "                    \n",
    "            count_of_arms_pulled[arm_to_pull] += 1\n",
    "            reward = self.environment.pull(arm_to_pull)\n",
    "            if reward > 90: # modification to allow for Bernoulli Bandit\n",
    "                rewards_obtained[arm_to_pull] += 1 # alpha\n",
    "            else:\n",
    "                failures[arm_to_pull] += 1 # beta\n",
    "            \n",
    "            total_rewards.append(reward)\n",
    "            cumulative_rewards.append(sum(total_rewards)/len(total_rewards))\n",
    "            \n",
    "        return (count_of_arms_pulled, \n",
    "                rewards_obtained, \n",
    "                cumulative_rewards)"
   ]
  },
  {
   "cell_type": "code",
   "execution_count": 11,
   "id": "b755561b",
   "metadata": {},
   "outputs": [],
   "source": [
    "thompson_sampling_agent = ThompsonSamplingAgent(environment=base_environment, steps=10000)\n",
    "(ths_arms_pulled, ths_rewards_obtained, ths_cumulative_rewards) = thompson_sampling_agent.step()"
   ]
  },
  {
   "cell_type": "code",
   "execution_count": 18,
   "id": "6b3b703b",
   "metadata": {},
   "outputs": [
    {
     "data": {
      "image/png": "[encoded data removed]",
      "text/plain": [
       "<Figure size 432x288 with 1 Axes>"
      ]
     },
     "metadata": {
      "needs_background": "light"
     },
     "output_type": "display_data"
    }
   ],
   "source": [
    "# plots\n",
    "plt.plot(ra_cumulative_rewards, label='RandomAgent', color='salmon')\n",
    "plt.plot(epsg_cumulative_rewards, label='EpsilonGreedy ($\\epsilon=0.1$)', color='tab:purple', linestyle='--')\n",
    "plt.plot(epsg_2_cumulative_rewards, label='EpsilonGreedy ($\\epsilon=0.01$)', color='tab:green')\n",
    "plt.plot(epsg_3_cumulative_rewards, label='EpsilonGreedy ($\\epsilon=0.001$)', color='tab:blue')\n",
    "plt.plot(ths_cumulative_rewards, label='ThompsonSampling', color='tab:pink')\n",
    "plt.title('MABs on SlotMachine Environment (K = 10)')\n",
    "plt.xlabel('Steps')\n",
    "plt.ylabel('Cumulative Reward')\n",
    "plt.legend()\n",
    "plt.savefig('mab_agents_on_slotenv.pdf', dpi=300, bbox_inches='tight')\n",
    "plt.show()"
   ]
  },
  {
   "cell_type": "code",
   "execution_count": null,
   "id": "496c1afd",
   "metadata": {},
   "outputs": [],
   "source": []
  }
 ],
 "metadata": {
  "kernelspec": {
   "display_name": "Python 3 (ipykernel)",
   "language": "python",
   "name": "python3"
  },
  "language_info": {
   "codemirror_mode": {
    "name": "ipython",
    "version": 3
   },
   "file_extension": ".py",
   "mimetype": "text/x-python",
   "name": "python",
   "nbconvert_exporter": "python",
   "pygments_lexer": "ipython3",
   "version": "3.9.7"
  }
 },
 "nbformat": 4,
 "nbformat_minor": 5
}
